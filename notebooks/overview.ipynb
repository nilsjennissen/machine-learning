{
 "cells": [
  {
   "cell_type": "markdown",
   "source": [
    "[![Open In Colab](https://colab.research.google.com/assets/colab-badge.svg)](https://colab.research.google.com/github/nilsjennissen/machine-learning/blob/main/notebooks/overview.ipynb)"
   ],
   "metadata": {
    "collapsed": false
   }
  },
  {
   "cell_type": "markdown",
   "source": [
    "# Visual overview of machine learning techniques"
   ],
   "metadata": {
    "collapsed": false
   }
  },
  {
   "cell_type": "code",
   "execution_count": 8,
   "outputs": [],
   "source": [
    "# Techniques:\n",
    "\n",
    "# Supervised\n",
    "# Regression: Linear Regression, Decision Tree, Random Forest, Gradient Boosting, Neural Network\n",
    "# Classification: Logistic Regression, Decision Tree, Random Forest, Gradient Boosting, Neural Network\n",
    "\n",
    "# Unsupervised\n",
    "# Clustering: K-means, Hierarchical, DBSCAN\n",
    "# Dimensionality Reduction: PCA, t-SNE, Autoencoders"
   ],
   "metadata": {
    "collapsed": false,
    "ExecuteTime": {
     "end_time": "2023-05-04T10:41:30.215642Z",
     "start_time": "2023-05-04T10:41:30.213145Z"
    }
   }
  },
  {
   "cell_type": "code",
   "execution_count": 13,
   "metadata": {
    "collapsed": true,
    "ExecuteTime": {
     "end_time": "2023-05-24T16:20:50.222140Z",
     "start_time": "2023-05-24T16:20:50.219858Z"
    }
   },
   "outputs": [],
   "source": [
    "# Nested dict of machine learning techniques for unsupervised learning and supervised learning\n",
    "# dictionary of unsupervised learning techniques\n",
    "super_dict = {\n",
    "    'regression': ['linear regression', 'decision tree', 'random forest', 'gradient boosting', 'neural network'],\n",
    "    'classification': ['logistic regression', 'decision tree', 'random forest', 'gradient boosting', 'neural network']\n",
    "}\n",
    "\n",
    "unsuper_dict = {\n",
    "    'clustering': ['k-means', 'hierarchical', 'dbscan'],\n",
    "    'dimensionality reduction': ['pca', 't-sne', 'autoencoders']\n",
    "}\n",
    "\n",
    "semi_super_dict = {\n",
    "    'semi-supervised learning': ['label propagation', 'label spreading']\n",
    "}\n",
    "\n",
    "reinforcement_dict = {\n",
    "    'reinforcement learning': ['q-learning', 'deep q-learning']\n",
    "}"
   ]
  },
  {
   "cell_type": "code",
   "execution_count": 15,
   "outputs": [
    {
     "name": "stdout",
     "output_type": "stream",
     "text": [
      "machine learning\n",
      "├── supervised learning\n",
      "│   ├── classification\n",
      "│   │   └── logistic regression\n",
      "│   └── regression\n",
      "│       ├── decision tree\n",
      "│       ├── linear regression\n",
      "│       └── random forest\n",
      "└── unsupervised learning\n",
      "    ├── clustering\n",
      "    │   ├── dbscan\n",
      "    │   ├── hierarchical\n",
      "    │   └── k-means\n",
      "    └── dimensionality reduction\n",
      "\n"
     ]
    }
   ],
   "source": [
    "# Visualize the nested dict of machine learning techniques in a hierarchical tree\n",
    "# Use the tree package to visualize the nested dict of machine learning techniques\n",
    "\n",
    "# import the tree package\n",
    "from treelib import Node, Tree\n",
    "\n",
    "# create a tree object\n",
    "tree = Tree()\n",
    "\n",
    "# create the tree in loops with the dictionary\n",
    "# add the root node\n",
    "tree.create_node('machine learning', 'machine learning')\n",
    "tree.create_node('supervised learning', 'supervised learning', parent='machine learning')\n",
    "tree.create_node('unsupervised learning', 'unsupervised learning', parent='machine learning')\n",
    "\n",
    "# add the supervised learning nodes\n",
    "tree.create_node('regression', 'regression', parent='supervised learning')\n",
    "tree.create_node('classification', 'classification', parent='supervised learning')\n",
    "tree.create_node('clustering', 'clustering', parent='unsupervised learning')\n",
    "tree.create_node('dimensionality reduction', 'dimensionality reduction', parent='unsupervised learning')\n",
    "\n",
    "tree.create_node('linear regression', 'linear regression', parent='regression')\n",
    "tree.create_node('decision tree', 'decision tree', parent='regression')\n",
    "tree.create_node('random forest', 'random forest', parent='regression')\n",
    "\n",
    "tree.create_node('logistic regression', 'logistic regression', parent='classification')\n",
    "\n",
    "\n",
    "tree.create_node('k-means', 'k-means', parent='clustering')\n",
    "tree.create_node('hierarchical', 'hierarchical', parent='clustering')\n",
    "tree.create_node('dbscan', 'dbscan', parent='clustering')\n",
    "\n",
    "# show the tree\n",
    "tree.show()"
   ],
   "metadata": {
    "collapsed": false,
    "ExecuteTime": {
     "end_time": "2023-05-24T16:21:02.461542Z",
     "start_time": "2023-05-24T16:21:02.457237Z"
    }
   }
  },
  {
   "cell_type": "code",
   "execution_count": 11,
   "outputs": [],
   "source": [
    "# Combine the three dictionaries into one dictionary\n",
    "# create a new dictionary\n",
    "ml_dict = {}\n",
    "\n",
    "# add the three dictionaries to the new dictionary\n",
    "ml_dict.update(super_dict)\n",
    "ml_dict.update(unsuper_dict)\n",
    "ml_dict.update(semi_super_dict)\n",
    "ml_dict.update(reinforcement_dict)\n"
   ],
   "metadata": {
    "collapsed": false,
    "ExecuteTime": {
     "end_time": "2023-05-24T12:35:24.591741Z",
     "start_time": "2023-05-24T12:35:24.589604Z"
    }
   }
  },
  {
   "cell_type": "code",
   "execution_count": 12,
   "outputs": [
    {
     "ename": "DuplicatedNodeIdError",
     "evalue": "Can't create node with ID 'decision tree'",
     "output_type": "error",
     "traceback": [
      "\u001B[0;31m---------------------------------------------------------------------------\u001B[0m",
      "\u001B[0;31mDuplicatedNodeIdError\u001B[0m                     Traceback (most recent call last)",
      "Cell \u001B[0;32mIn[12], line 11\u001B[0m\n\u001B[1;32m      9\u001B[0m tree\u001B[38;5;241m.\u001B[39mcreate_node(key, key, parent\u001B[38;5;241m=\u001B[39m\u001B[38;5;124m'\u001B[39m\u001B[38;5;124mmachine learning\u001B[39m\u001B[38;5;124m'\u001B[39m)\n\u001B[1;32m     10\u001B[0m \u001B[38;5;28;01mfor\u001B[39;00m item \u001B[38;5;129;01min\u001B[39;00m value:\n\u001B[0;32m---> 11\u001B[0m     \u001B[43mtree\u001B[49m\u001B[38;5;241;43m.\u001B[39;49m\u001B[43mcreate_node\u001B[49m\u001B[43m(\u001B[49m\u001B[43mitem\u001B[49m\u001B[43m,\u001B[49m\u001B[43m \u001B[49m\u001B[43mitem\u001B[49m\u001B[43m,\u001B[49m\u001B[43m \u001B[49m\u001B[43mparent\u001B[49m\u001B[38;5;241;43m=\u001B[39;49m\u001B[43mkey\u001B[49m\u001B[43m)\u001B[49m\n",
      "File \u001B[0;32m~/.conda/envs/machine-learning/lib/python3.10/site-packages/treelib/tree.py:388\u001B[0m, in \u001B[0;36mTree.create_node\u001B[0;34m(self, tag, identifier, parent, data)\u001B[0m\n\u001B[1;32m    383\u001B[0m \u001B[38;5;250m\u001B[39m\u001B[38;5;124;03m\"\"\"\u001B[39;00m\n\u001B[1;32m    384\u001B[0m \u001B[38;5;124;03mCreate a child node for given @parent node. If ``identifier`` is absent,\u001B[39;00m\n\u001B[1;32m    385\u001B[0m \u001B[38;5;124;03ma UUID will be generated automatically.\u001B[39;00m\n\u001B[1;32m    386\u001B[0m \u001B[38;5;124;03m\"\"\"\u001B[39;00m\n\u001B[1;32m    387\u001B[0m node \u001B[38;5;241m=\u001B[39m \u001B[38;5;28mself\u001B[39m\u001B[38;5;241m.\u001B[39mnode_class(tag\u001B[38;5;241m=\u001B[39mtag, identifier\u001B[38;5;241m=\u001B[39midentifier, data\u001B[38;5;241m=\u001B[39mdata)\n\u001B[0;32m--> 388\u001B[0m \u001B[38;5;28;43mself\u001B[39;49m\u001B[38;5;241;43m.\u001B[39;49m\u001B[43madd_node\u001B[49m\u001B[43m(\u001B[49m\u001B[43mnode\u001B[49m\u001B[43m,\u001B[49m\u001B[43m \u001B[49m\u001B[43mparent\u001B[49m\u001B[43m)\u001B[49m\n\u001B[1;32m    389\u001B[0m \u001B[38;5;28;01mreturn\u001B[39;00m node\n",
      "File \u001B[0;32m~/.conda/envs/machine-learning/lib/python3.10/site-packages/treelib/tree.py:309\u001B[0m, in \u001B[0;36mTree.add_node\u001B[0;34m(self, node, parent)\u001B[0m\n\u001B[1;32m    304\u001B[0m     \u001B[38;5;28;01mraise\u001B[39;00m \u001B[38;5;167;01mOSError\u001B[39;00m(\n\u001B[1;32m    305\u001B[0m         \u001B[38;5;124m\"\u001B[39m\u001B[38;5;124mFirst parameter must be object of \u001B[39m\u001B[38;5;132;01m{}\u001B[39;00m\u001B[38;5;124m\"\u001B[39m\u001B[38;5;241m.\u001B[39mformat(\u001B[38;5;28mself\u001B[39m\u001B[38;5;241m.\u001B[39mnode_class)\n\u001B[1;32m    306\u001B[0m     )\n\u001B[1;32m    308\u001B[0m \u001B[38;5;28;01mif\u001B[39;00m node\u001B[38;5;241m.\u001B[39midentifier \u001B[38;5;129;01min\u001B[39;00m \u001B[38;5;28mself\u001B[39m\u001B[38;5;241m.\u001B[39m_nodes:\n\u001B[0;32m--> 309\u001B[0m     \u001B[38;5;28;01mraise\u001B[39;00m DuplicatedNodeIdError(\n\u001B[1;32m    310\u001B[0m         \u001B[38;5;124m\"\u001B[39m\u001B[38;5;124mCan\u001B[39m\u001B[38;5;124m'\u001B[39m\u001B[38;5;124mt create node \u001B[39m\u001B[38;5;124m\"\u001B[39m \u001B[38;5;124m\"\u001B[39m\u001B[38;5;124mwith ID \u001B[39m\u001B[38;5;124m'\u001B[39m\u001B[38;5;132;01m%s\u001B[39;00m\u001B[38;5;124m'\u001B[39m\u001B[38;5;124m\"\u001B[39m \u001B[38;5;241m%\u001B[39m node\u001B[38;5;241m.\u001B[39midentifier\n\u001B[1;32m    311\u001B[0m     )\n\u001B[1;32m    313\u001B[0m pid \u001B[38;5;241m=\u001B[39m parent\u001B[38;5;241m.\u001B[39midentifier \u001B[38;5;28;01mif\u001B[39;00m \u001B[38;5;28misinstance\u001B[39m(parent, \u001B[38;5;28mself\u001B[39m\u001B[38;5;241m.\u001B[39mnode_class) \u001B[38;5;28;01melse\u001B[39;00m parent\n\u001B[1;32m    315\u001B[0m \u001B[38;5;28;01mif\u001B[39;00m pid \u001B[38;5;129;01mis\u001B[39;00m \u001B[38;5;28;01mNone\u001B[39;00m:\n",
      "\u001B[0;31mDuplicatedNodeIdError\u001B[0m: Can't create node with ID 'decision tree'"
     ]
    }
   ],
   "source": [
    "# Creating the tree with for loops\n",
    "# create a tree object\n",
    "tree = Tree()\n",
    "\n",
    "# Create a\n"
   ],
   "metadata": {
    "collapsed": false,
    "ExecuteTime": {
     "end_time": "2023-05-24T12:35:46.525304Z",
     "start_time": "2023-05-24T12:35:46.506128Z"
    }
   }
  },
  {
   "cell_type": "code",
   "execution_count": null,
   "outputs": [],
   "source": [],
   "metadata": {
    "collapsed": false
   }
  }
 ],
 "metadata": {
  "kernelspec": {
   "display_name": "Python 3",
   "language": "python",
   "name": "python3"
  },
  "language_info": {
   "codemirror_mode": {
    "name": "ipython",
    "version": 2
   },
   "file_extension": ".py",
   "mimetype": "text/x-python",
   "name": "python",
   "nbconvert_exporter": "python",
   "pygments_lexer": "ipython2",
   "version": "2.7.6"
  }
 },
 "nbformat": 4,
 "nbformat_minor": 0
}
