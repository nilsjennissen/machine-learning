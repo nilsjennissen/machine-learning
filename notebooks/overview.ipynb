{
 "cells": [
  {
   "cell_type": "markdown",
   "source": [
    "[![Open In Colab](https://colab.research.google.com/assets/colab-badge.svg)](https://colab.research.google.com/github/nilsjennissen/machine-learning/blob/main/notebooks/overview.ipynb)"
   ],
   "metadata": {
    "collapsed": false
   }
  },
  {
   "cell_type": "markdown",
   "source": [
    "# Data Science"
   ],
   "metadata": {
    "collapsed": false
   }
  },
  {
   "cell_type": "markdown",
   "source": [
    "Data science is a multidisciplinary field that uses scientific methods, processes, algorithms, and systems to extract knowledge and insights from structured and unstructured data. It encompasses various fields and techniques, which can be grouped into the following categories:\n",
    "\n",
    "1. Data Collection and Preprocessing:\n",
    "- Data Acquisition: Collecting data from various sources like databases, APIs, web scraping, and IoT devices.\n",
    "- Data Cleaning: Handling missing values, removing duplicates, and correcting inconsistencies.\n",
    "- Data Transformation: Converting data into a suitable format for analysis, such as normalization or encoding categorical variables.\n",
    "\n",
    "2. Data Exploration and Visualization:\n",
    "\n",
    "- Descriptive Statistics: Summarizing data using measures like mean, median, mode, and standard deviation.\n",
    "- Data Visualization: Representing data using plots and charts, such as bar charts, line charts, and scatter plots.\n",
    "- Exploratory Data Analysis (EDA): Identifying patterns, trends, and relationships in the data.\n",
    "3. Feature Engineering and Selection:\n",
    "\n",
    "- Feature Engineering: Creating new features from existing data to improve model performance.\n",
    "- Feature Selection: Identifying the most important features for a given problem, using techniques like correlation analysis, recursive feature elimination, and LASSO regularization.\n",
    "4. Predictive Modeling and Machine Learning:\n",
    "\n",
    "- Supervised Learning: Training models to predict outcomes based on labeled data, using algorithms like linear regression, logistic regression, and support vector machines.\n",
    "- Unsupervised Learning: Identifying patterns in data without labeled outcomes, using algorithms like clustering and dimensionality reduction.\n",
    "- Reinforcement Learning: Training models to make decisions based on rewards and penalties, using algorithms like Q-learning and deep reinforcement learning.\n",
    "5. Model Evaluation and Validation:\n",
    "\n",
    "- Performance Metrics: Assessing model performance using metrics like accuracy, precision, recall, F1-score, and mean squared error.\n",
    "- Cross-Validation: Estimating model performance on unseen data by splitting the dataset into training and testing subsets.\n",
    "- Hyperparameter Tuning: Optimizing model performance by adjusting algorithm-specific parameters, using techniques like grid search and random search.\n",
    "6. Deployment and Maintenance:\n",
    "\n",
    "- Model Deployment: Integrating trained models into production systems, using tools like REST APIs and cloud-based services.\n",
    "- Model Monitoring: Tracking model performance over time and updating models as needed.\n",
    "- Data Governance: Ensuring data quality, security, and compliance with regulations."
   ],
   "metadata": {
    "collapsed": false
   }
  },
  {
   "cell_type": "markdown",
   "source": [
    "# Machine Learning\n",
    "Visual overview of machine learning techniques"
   ],
   "metadata": {
    "collapsed": false
   }
  },
  {
   "cell_type": "markdown",
   "source": [
    "**Supervised Learning**\n",
    "\n",
    "**Unsupervised Learning**\n",
    "\n",
    "**Semi-supervised Learning**\n",
    "\n",
    "**Reinforcement Learning**"
   ],
   "metadata": {
    "collapsed": false
   }
  },
  {
   "cell_type": "code",
   "execution_count": 8,
   "outputs": [],
   "source": [
    "# Let's create a visual overview and a database of our knowledge\n",
    "\n",
    "# First we start with creating empty dictionaries for each"
   ],
   "metadata": {
    "collapsed": false,
    "ExecuteTime": {
     "end_time": "2023-05-04T10:41:30.215642Z",
     "start_time": "2023-05-04T10:41:30.213145Z"
    }
   }
  },
  {
   "cell_type": "code",
   "execution_count": 13,
   "metadata": {
    "collapsed": true,
    "ExecuteTime": {
     "end_time": "2023-05-24T16:20:50.222140Z",
     "start_time": "2023-05-24T16:20:50.219858Z"
    }
   },
   "outputs": [],
   "source": [
    "# Nested dict of machine learning techniques for unsupervised learning and supervised learning\n",
    "# dictionary of unsupervised learning techniques\n",
    "super_dict = {\n",
    "    'regression': ['linear regression', 'decision tree', 'random forest', 'gradient boosting', 'neural network'],\n",
    "    'classification': ['logistic regression', 'decision tree', 'random forest', 'gradient boosting', 'neural network']\n",
    "}\n",
    "\n",
    "unsuper_dict = {\n",
    "    'clustering': ['k-means', 'hierarchical', 'dbscan'],\n",
    "    'dimensionality reduction': ['pca', 't-sne', 'autoencoders']\n",
    "}\n",
    "\n",
    "semi_super_dict = {\n",
    "    'semi-supervised learning': ['label propagation', 'label spreading']\n",
    "}\n",
    "\n",
    "reinforcement_dict = {\n",
    "    'reinforcement learning': ['q-learning', 'deep q-learning']\n",
    "}"
   ]
  },
  {
   "cell_type": "code",
   "execution_count": 15,
   "outputs": [
    {
     "name": "stdout",
     "output_type": "stream",
     "text": [
      "machine learning\n",
      "├── supervised learning\n",
      "│   ├── classification\n",
      "│   │   └── logistic regression\n",
      "│   └── regression\n",
      "│       ├── decision tree\n",
      "│       ├── linear regression\n",
      "│       └── random forest\n",
      "└── unsupervised learning\n",
      "    ├── clustering\n",
      "    │   ├── dbscan\n",
      "    │   ├── hierarchical\n",
      "    │   └── k-means\n",
      "    └── dimensionality reduction\n",
      "\n"
     ]
    }
   ],
   "source": [
    "# Visualize the nested dict of machine learning techniques in a hierarchical tree\n",
    "# Use the tree package to visualize the nested dict of machine learning techniques\n",
    "\n",
    "# import the tree package\n",
    "from treelib import Node, Tree\n",
    "\n",
    "# create a tree object\n",
    "tree = Tree()\n",
    "\n",
    "# create the tree in loops with the dictionary\n",
    "# add the root node\n",
    "tree.create_node('machine learning', 'machine learning')\n",
    "tree.create_node('supervised learning', 'supervised learning', parent='machine learning')\n",
    "tree.create_node('unsupervised learning', 'unsupervised learning', parent='machine learning')\n",
    "\n",
    "# add the supervised learning nodes\n",
    "tree.create_node('regression', 'regression', parent='supervised learning')\n",
    "tree.create_node('classification', 'classification', parent='supervised learning')\n",
    "tree.create_node('clustering', 'clustering', parent='unsupervised learning')\n",
    "tree.create_node('dimensionality reduction', 'dimensionality reduction', parent='unsupervised learning')\n",
    "\n",
    "tree.create_node('linear regression', 'linear regression', parent='regression')\n",
    "tree.create_node('decision tree', 'decision tree', parent='regression')\n",
    "tree.create_node('random forest', 'random forest', parent='regression')\n",
    "\n",
    "tree.create_node('logistic regression', 'logistic regression', parent='classification')\n",
    "\n",
    "\n",
    "tree.create_node('k-means', 'k-means', parent='clustering')\n",
    "tree.create_node('hierarchical', 'hierarchical', parent='clustering')\n",
    "tree.create_node('dbscan', 'dbscan', parent='clustering')\n",
    "\n",
    "# show the tree\n",
    "tree.show()"
   ],
   "metadata": {
    "collapsed": false,
    "ExecuteTime": {
     "end_time": "2023-05-24T16:21:02.461542Z",
     "start_time": "2023-05-24T16:21:02.457237Z"
    }
   }
  },
  {
   "cell_type": "code",
   "execution_count": 19,
   "outputs": [
    {
     "name": "stdout",
     "output_type": "stream",
     "text": [
      "machine learning\n",
      "├── Deep Q-network (DQN)\n",
      "├── Q-learning\n",
      "├── deep learning\n",
      "│   ├── BERT\n",
      "│   ├── GPT\n",
      "│   ├── convolutional neural networks (CNN)\n",
      "│   └── recurrent neural networks (RNN)\n",
      "├── label propagation\n",
      "├── self-training\n",
      "├── supervised learning\n",
      "│   ├── decision tree\n",
      "│   ├── linear regression\n",
      "│   ├── logistic regression\n",
      "│   └── random forest\n",
      "└── unsupervised learning\n",
      "    ├── dbscan\n",
      "    ├── hierarchical\n",
      "    └── k-means\n",
      "\n"
     ]
    }
   ],
   "source": [
    "from treelib import Tree\n",
    "\n",
    "# Create a nested dictionary of machine learning techniques with examples\n",
    "ml_techniques = {\n",
    "    'supervised learning': {\n",
    "        'regression': ['linear regression', 'decision tree', 'random forest'],\n",
    "        'classification': ['logistic regression']\n",
    "    },\n",
    "    'unsupervised learning': {\n",
    "        'clustering': ['k-means', 'hierarchical', 'dbscan'],\n",
    "        'dimensionality reduction': []\n",
    "    },\n",
    "    'reinforcement learning': ['Q-learning', 'Deep Q-network (DQN)'],\n",
    "    'semi-supervised learning': ['self-training', 'label propagation'],\n",
    "    'deep learning': {\n",
    "        'neural networks': ['convolutional neural networks (CNN)', 'recurrent neural networks (RNN)'],\n",
    "        'transformers': ['BERT', 'GPT']\n",
    "    }\n",
    "}\n",
    "\n",
    "# Create a tree object\n",
    "tree = Tree()\n",
    "\n",
    "# Define a recursive function to populate the tree\n",
    "def populate_tree(node, parent):\n",
    "    for key, value in node.items():\n",
    "        if isinstance(value, dict):\n",
    "            child_node = tree.create_node(key, key, parent=parent)\n",
    "            populate_tree(value, child_node.identifier)\n",
    "        elif isinstance(value, list):\n",
    "            for technique in value:\n",
    "                tree.create_node(technique, technique, parent=parent)\n",
    "\n",
    "# Add the root node separately\n",
    "tree.create_node('machine learning', 'machine_learning')\n",
    "\n",
    "# Populate the tree\n",
    "populate_tree(ml_techniques, 'machine_learning')\n",
    "\n",
    "# Show the tree\n",
    "tree.show()\n"
   ],
   "metadata": {
    "collapsed": false,
    "ExecuteTime": {
     "end_time": "2023-05-25T11:09:48.759016Z",
     "start_time": "2023-05-25T11:09:48.752829Z"
    }
   }
  },
  {
   "cell_type": "code",
   "execution_count": 2,
   "outputs": [
    {
     "ename": "DuplicatedNodeIdError",
     "evalue": "Can't create node with ID 'autoencoders'",
     "output_type": "error",
     "traceback": [
      "\u001B[0;31m---------------------------------------------------------------------------\u001B[0m",
      "\u001B[0;31mDuplicatedNodeIdError\u001B[0m                     Traceback (most recent call last)",
      "Cell \u001B[0;32mIn[2], line 128\u001B[0m\n\u001B[1;32m    125\u001B[0m tree\u001B[38;5;241m.\u001B[39mcreate_node(\u001B[38;5;124m\"\u001B[39m\u001B[38;5;124mMachine Learning Techniques\u001B[39m\u001B[38;5;124m\"\u001B[39m, \u001B[38;5;124m\"\u001B[39m\u001B[38;5;124mroot\u001B[39m\u001B[38;5;124m\"\u001B[39m)\n\u001B[1;32m    127\u001B[0m \u001B[38;5;66;03m# Populate the tree with machine learning techniques\u001B[39;00m\n\u001B[0;32m--> 128\u001B[0m \u001B[43mpopulate_tree\u001B[49m\u001B[43m(\u001B[49m\u001B[43mml_techniques\u001B[49m\u001B[43m,\u001B[49m\u001B[43m \u001B[49m\u001B[38;5;124;43m\"\u001B[39;49m\u001B[38;5;124;43mroot\u001B[39;49m\u001B[38;5;124;43m\"\u001B[39;49m\u001B[43m)\u001B[49m\n\u001B[1;32m    130\u001B[0m \u001B[38;5;66;03m# Show tree levels\u001B[39;00m\n\u001B[1;32m    131\u001B[0m \u001B[38;5;28;01mfor\u001B[39;00m level \u001B[38;5;129;01min\u001B[39;00m tree\u001B[38;5;241m.\u001B[39mlevels():\n",
      "Cell \u001B[0;32mIn[2], line 117\u001B[0m, in \u001B[0;36mpopulate_tree\u001B[0;34m(node, parent)\u001B[0m\n\u001B[1;32m    115\u001B[0m     \u001B[38;5;28;01mfor\u001B[39;00m key, value \u001B[38;5;129;01min\u001B[39;00m node\u001B[38;5;241m.\u001B[39mitems():\n\u001B[1;32m    116\u001B[0m         child_node \u001B[38;5;241m=\u001B[39m tree\u001B[38;5;241m.\u001B[39mcreate_node(key, key, parent\u001B[38;5;241m=\u001B[39mparent)\n\u001B[0;32m--> 117\u001B[0m         \u001B[43mpopulate_tree\u001B[49m\u001B[43m(\u001B[49m\u001B[43mvalue\u001B[49m\u001B[43m,\u001B[49m\u001B[43m \u001B[49m\u001B[43mchild_node\u001B[49m\u001B[38;5;241;43m.\u001B[39;49m\u001B[43midentifier\u001B[49m\u001B[43m)\u001B[49m\n\u001B[1;32m    118\u001B[0m \u001B[38;5;28;01melif\u001B[39;00m \u001B[38;5;28misinstance\u001B[39m(node, \u001B[38;5;28mlist\u001B[39m):\n\u001B[1;32m    119\u001B[0m     \u001B[38;5;28;01mfor\u001B[39;00m technique \u001B[38;5;129;01min\u001B[39;00m node:\n",
      "Cell \u001B[0;32mIn[2], line 120\u001B[0m, in \u001B[0;36mpopulate_tree\u001B[0;34m(node, parent)\u001B[0m\n\u001B[1;32m    118\u001B[0m \u001B[38;5;28;01melif\u001B[39;00m \u001B[38;5;28misinstance\u001B[39m(node, \u001B[38;5;28mlist\u001B[39m):\n\u001B[1;32m    119\u001B[0m     \u001B[38;5;28;01mfor\u001B[39;00m technique \u001B[38;5;129;01min\u001B[39;00m node:\n\u001B[0;32m--> 120\u001B[0m         \u001B[43mtree\u001B[49m\u001B[38;5;241;43m.\u001B[39;49m\u001B[43mcreate_node\u001B[49m\u001B[43m(\u001B[49m\u001B[43mtechnique\u001B[49m\u001B[43m,\u001B[49m\u001B[43m \u001B[49m\u001B[43mtechnique\u001B[49m\u001B[43m,\u001B[49m\u001B[43m \u001B[49m\u001B[43mparent\u001B[49m\u001B[38;5;241;43m=\u001B[39;49m\u001B[43mparent\u001B[49m\u001B[43m)\u001B[49m\n\u001B[1;32m    121\u001B[0m \u001B[38;5;28;01melse\u001B[39;00m:\n\u001B[1;32m    122\u001B[0m     \u001B[38;5;28mprint\u001B[39m(\u001B[38;5;124m\"\u001B[39m\u001B[38;5;124mInvalid data structure\u001B[39m\u001B[38;5;124m\"\u001B[39m)\n",
      "File \u001B[0;32m~/.conda/envs/machine-learning/lib/python3.10/site-packages/treelib/tree.py:388\u001B[0m, in \u001B[0;36mTree.create_node\u001B[0;34m(self, tag, identifier, parent, data)\u001B[0m\n\u001B[1;32m    383\u001B[0m \u001B[38;5;250m\u001B[39m\u001B[38;5;124;03m\"\"\"\u001B[39;00m\n\u001B[1;32m    384\u001B[0m \u001B[38;5;124;03mCreate a child node for given @parent node. If ``identifier`` is absent,\u001B[39;00m\n\u001B[1;32m    385\u001B[0m \u001B[38;5;124;03ma UUID will be generated automatically.\u001B[39;00m\n\u001B[1;32m    386\u001B[0m \u001B[38;5;124;03m\"\"\"\u001B[39;00m\n\u001B[1;32m    387\u001B[0m node \u001B[38;5;241m=\u001B[39m \u001B[38;5;28mself\u001B[39m\u001B[38;5;241m.\u001B[39mnode_class(tag\u001B[38;5;241m=\u001B[39mtag, identifier\u001B[38;5;241m=\u001B[39midentifier, data\u001B[38;5;241m=\u001B[39mdata)\n\u001B[0;32m--> 388\u001B[0m \u001B[38;5;28;43mself\u001B[39;49m\u001B[38;5;241;43m.\u001B[39;49m\u001B[43madd_node\u001B[49m\u001B[43m(\u001B[49m\u001B[43mnode\u001B[49m\u001B[43m,\u001B[49m\u001B[43m \u001B[49m\u001B[43mparent\u001B[49m\u001B[43m)\u001B[49m\n\u001B[1;32m    389\u001B[0m \u001B[38;5;28;01mreturn\u001B[39;00m node\n",
      "File \u001B[0;32m~/.conda/envs/machine-learning/lib/python3.10/site-packages/treelib/tree.py:309\u001B[0m, in \u001B[0;36mTree.add_node\u001B[0;34m(self, node, parent)\u001B[0m\n\u001B[1;32m    304\u001B[0m     \u001B[38;5;28;01mraise\u001B[39;00m \u001B[38;5;167;01mOSError\u001B[39;00m(\n\u001B[1;32m    305\u001B[0m         \u001B[38;5;124m\"\u001B[39m\u001B[38;5;124mFirst parameter must be object of \u001B[39m\u001B[38;5;132;01m{}\u001B[39;00m\u001B[38;5;124m\"\u001B[39m\u001B[38;5;241m.\u001B[39mformat(\u001B[38;5;28mself\u001B[39m\u001B[38;5;241m.\u001B[39mnode_class)\n\u001B[1;32m    306\u001B[0m     )\n\u001B[1;32m    308\u001B[0m \u001B[38;5;28;01mif\u001B[39;00m node\u001B[38;5;241m.\u001B[39midentifier \u001B[38;5;129;01min\u001B[39;00m \u001B[38;5;28mself\u001B[39m\u001B[38;5;241m.\u001B[39m_nodes:\n\u001B[0;32m--> 309\u001B[0m     \u001B[38;5;28;01mraise\u001B[39;00m DuplicatedNodeIdError(\n\u001B[1;32m    310\u001B[0m         \u001B[38;5;124m\"\u001B[39m\u001B[38;5;124mCan\u001B[39m\u001B[38;5;124m'\u001B[39m\u001B[38;5;124mt create node \u001B[39m\u001B[38;5;124m\"\u001B[39m \u001B[38;5;124m\"\u001B[39m\u001B[38;5;124mwith ID \u001B[39m\u001B[38;5;124m'\u001B[39m\u001B[38;5;132;01m%s\u001B[39;00m\u001B[38;5;124m'\u001B[39m\u001B[38;5;124m\"\u001B[39m \u001B[38;5;241m%\u001B[39m node\u001B[38;5;241m.\u001B[39midentifier\n\u001B[1;32m    311\u001B[0m     )\n\u001B[1;32m    313\u001B[0m pid \u001B[38;5;241m=\u001B[39m parent\u001B[38;5;241m.\u001B[39midentifier \u001B[38;5;28;01mif\u001B[39;00m \u001B[38;5;28misinstance\u001B[39m(parent, \u001B[38;5;28mself\u001B[39m\u001B[38;5;241m.\u001B[39mnode_class) \u001B[38;5;28;01melse\u001B[39;00m parent\n\u001B[1;32m    315\u001B[0m \u001B[38;5;28;01mif\u001B[39;00m pid \u001B[38;5;129;01mis\u001B[39;00m \u001B[38;5;28;01mNone\u001B[39;00m:\n",
      "\u001B[0;31mDuplicatedNodeIdError\u001B[0m: Can't create node with ID 'autoencoders'"
     ]
    }
   ],
   "source": [
    "from treelib import Tree\n",
    "\n",
    "# Create a nested dictionary of machine learning techniques with examples\n",
    "ml_techniques = {\n",
    "    'supervised learning': {\n",
    "        'regression': [\n",
    "            'linear regression',\n",
    "            'polynomial regression',\n",
    "            'ridge regression',\n",
    "            'lasso regression',\n",
    "            'decision tree regression',\n",
    "            'random forest regression',\n",
    "            'gradient boosting regression',\n",
    "            'support vector regression',\n",
    "            'k-nearest neighbors regression',\n",
    "            'neural network regression'\n",
    "        ],\n",
    "        'classification': [\n",
    "            'logistic regression',\n",
    "            'support vector machines',\n",
    "            'k-nearest neighbors classification',\n",
    "            'decision tree classification',\n",
    "            'random forest classification',\n",
    "            'gradient boosting classification',\n",
    "            'naive Bayes',\n",
    "            'neural network classification',\n",
    "            'ensemble methods',\n",
    "            'nearest centroid'\n",
    "        ]\n",
    "    },\n",
    "    'unsupervised learning': {\n",
    "        'clustering': [\n",
    "            'k-means',\n",
    "            'hierarchical',\n",
    "            'DBSCAN',\n",
    "            'Gaussian mixture models',\n",
    "            'spectral clustering',\n",
    "            'meanshift',\n",
    "            'OPTICS',\n",
    "            'BIRCH',\n",
    "            'agglomerative clustering',\n",
    "            'density-based clustering'\n",
    "        ],\n",
    "        'dimensionality reduction': [\n",
    "            'principal component analysis (PCA)',\n",
    "            'linear discriminant analysis (LDA)',\n",
    "            't-distributed stochastic neighbor embedding (t-SNE)',\n",
    "            'autoencoders',\n",
    "            'non-negative matrix factorization (NMF)',\n",
    "            'independent component analysis (ICA)',\n",
    "            'random projections',\n",
    "            'feature selection',\n",
    "            'canonical correlation analysis (CCA)',\n",
    "            'factor analysis'\n",
    "        ]\n",
    "    },\n",
    "    'reinforcement learning': [\n",
    "        'Q-learning',\n",
    "        'SARSA',\n",
    "        'Deep Q-network (DQN)',\n",
    "        'Policy gradient methods',\n",
    "        'Actor-Critic methods',\n",
    "        'Monte Carlo Tree Search (MCTS)',\n",
    "        'Temporal Difference (TD) learning',\n",
    "        'Proximal Policy Optimization (PPO)',\n",
    "        'Asynchronous Advantage Actor-Critic (A3C)',\n",
    "        'Deep Deterministic Policy Gradient (DDPG)'\n",
    "    ],\n",
    "    'semi-supervised learning': [\n",
    "        'self-training',\n",
    "        'label propagation',\n",
    "        'generative models',\n",
    "        'co-training',\n",
    "        'multi-view learning',\n",
    "        'transductive support vector machines',\n",
    "        'graph-based methods',\n",
    "        'entropy regularization',\n",
    "        'consistency regularization',\n",
    "        'self-ensembling'\n",
    "    ],\n",
    "    'deep learning': [\n",
    "        'convolutional neural networks (CNN)',\n",
    "        'recurrent neural networks (RNN)',\n",
    "        'long short-term memory (LSTM)',\n",
    "        'gated recurrent unit (GRU)',\n",
    "        'autoencoders',\n",
    "        'generative adversarial networks (GANs)',\n",
    "        'variational autoencoders (VAEs)',\n",
    "        'transformer networks',\n",
    "        'attention mechanisms',\n",
    "        'capsule networks',\n",
    "        'BERT',\n",
    "        'GPT'\n",
    "    ],\n",
    "    'natural language processing': [\n",
    "        'tokenization',\n",
    "        'lemmatization',\n",
    "        'stemming',\n",
    "        'stop word removal',\n",
    "        'part-of-speech tagging',\n",
    "        'named entity recognition',\n",
    "        'sentiment analysis',\n",
    "        'topic modeling',\n",
    "        'word embeddings',\n",
    "        'language modeling'\n",
    "    ]\n",
    "}\n",
    "\n",
    "# Create a tree object\n",
    "tree = Tree()\n",
    "\n",
    "# Define a recursive function to populate the tree\n",
    "def populate_tree(node, parent):\n",
    "    if isinstance(node, dict):\n",
    "        for key, value in node.items():\n",
    "            child_node = tree.create_node(key, key, parent=parent)\n",
    "            populate_tree(value, child_node.identifier)\n",
    "    elif isinstance(node, list):\n",
    "        for technique in node:\n",
    "            tree.create_node\n",
    "\n"
   ],
   "metadata": {
    "collapsed": false,
    "ExecuteTime": {
     "end_time": "2023-05-25T14:43:39.481088Z",
     "start_time": "2023-05-25T14:43:39.081840Z"
    }
   }
  },
  {
   "cell_type": "code",
   "execution_count": 23,
   "outputs": [
    {
     "name": "stdout",
     "output_type": "stream",
     "text": [
      "Tree is empty\n",
      "\n"
     ]
    }
   ],
   "source": [
    "# Show tree\n",
    "tree.show()"
   ],
   "metadata": {
    "collapsed": false,
    "ExecuteTime": {
     "end_time": "2023-05-25T11:10:35.302130Z",
     "start_time": "2023-05-25T11:10:35.297965Z"
    }
   }
  },
  {
   "cell_type": "code",
   "execution_count": null,
   "outputs": [],
   "source": [],
   "metadata": {
    "collapsed": false
   }
  }
 ],
 "metadata": {
  "kernelspec": {
   "display_name": "Python 3",
   "language": "python",
   "name": "python3"
  },
  "language_info": {
   "codemirror_mode": {
    "name": "ipython",
    "version": 2
   },
   "file_extension": ".py",
   "mimetype": "text/x-python",
   "name": "python",
   "nbconvert_exporter": "python",
   "pygments_lexer": "ipython2",
   "version": "2.7.6"
  }
 },
 "nbformat": 4,
 "nbformat_minor": 0
}
