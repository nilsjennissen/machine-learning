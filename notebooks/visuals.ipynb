{
 "cells": [
  {
   "cell_type": "code",
   "execution_count": 8,
   "outputs": [],
   "source": [
    "# Visual overview of machine learning techniques\n",
    "# Techniques:\n",
    "\n",
    "# Supervised\n",
    "# Regression: Linear Regression, Decision Tree, Random Forest, Gradient Boosting, Neural Network\n",
    "# Classification: Logistic Regression, Decision Tree, Random Forest, Gradient Boosting, Neural Network\n",
    "\n",
    "# Unsupervised\n",
    "# Clustering: K-means, Hierarchical, DBSCAN\n",
    "# Dimensionality Reduction: PCA, t-SNE, Autoencoders"
   ],
   "metadata": {
    "collapsed": false,
    "ExecuteTime": {
     "end_time": "2023-05-04T10:41:30.215642Z",
     "start_time": "2023-05-04T10:41:30.213145Z"
    }
   }
  },
  {
   "cell_type": "code",
   "execution_count": 11,
   "metadata": {
    "collapsed": true,
    "ExecuteTime": {
     "end_time": "2023-05-04T10:42:10.027211Z",
     "start_time": "2023-05-04T10:42:10.025094Z"
    }
   },
   "outputs": [],
   "source": [
    "# Nested dict of machine learning techniques for unsupervised learning and supervised learning\n",
    "# dictionary of unsupervised learning techniques\n",
    "super_dict = {\n",
    "    'regression': ['linear regression', 'decision tree', 'random forest', 'gradient boosting', 'neural network'],\n",
    "    'classification': ['logistic regression', 'decision tree', 'random forest', 'gradient boosting', 'neural network']\n",
    "}\n",
    "\n",
    "#\n",
    "unsuper_dict = {\n",
    "    'clustering': ['k-means', 'hierarchical', 'dbscan'],\n",
    "    'dimensionality reduction': ['pca', 't-sne', 'autoencoders']\n",
    "}\n"
   ]
  },
  {
   "cell_type": "code",
   "execution_count": 16,
   "outputs": [
    {
     "name": "stdout",
     "output_type": "stream",
     "text": [
      "machine learning\n",
      "├── supervised learning\n",
      "│   ├── classification\n",
      "│   │   └── logistic regression\n",
      "│   └── regression\n",
      "│       ├── decision tree\n",
      "│       ├── linear regression\n",
      "│       └── random forest\n",
      "└── unsupervised learning\n",
      "    ├── clustering\n",
      "    │   ├── dbscan\n",
      "    │   ├── hierarchical\n",
      "    │   └── k-means\n",
      "    └── dimensionality reduction\n",
      "\n"
     ]
    }
   ],
   "source": [
    "# Visualize the nested dict of machine learning techniques in a hierarchical tree\n",
    "# Use the tree package to visualize the nested dict of machine learning techniques\n",
    "\n",
    "# import the tree package\n",
    "from treelib import Node, Tree\n",
    "\n",
    "# create a tree object\n",
    "tree = Tree()\n",
    "\n",
    "# create the tree in loops with the dictionary\n",
    "# add the root node\n",
    "tree.create_node('machine learning', 'machine learning')\n",
    "tree.create_node('supervised learning', 'supervised learning', parent='machine learning')\n",
    "tree.create_node('unsupervised learning', 'unsupervised learning', parent='machine learning')\n",
    "\n",
    "# add the supervised learning nodes\n",
    "tree.create_node('regression', 'regression', parent='supervised learning')\n",
    "tree.create_node('classification', 'classification', parent='supervised learning')\n",
    "tree.create_node('clustering', 'clustering', parent='unsupervised learning')\n",
    "tree.create_node('dimensionality reduction', 'dimensionality reduction', parent='unsupervised learning')\n",
    "\n",
    "tree.create_node('linear regression', 'linear regression', parent='regression')\n",
    "tree.create_node('decision tree', 'decision tree', parent='regression')\n",
    "tree.create_node('random forest', 'random forest', parent='regression')\n",
    "\n",
    "tree.create_node('logistic regression', 'logistic regression', parent='classification')\n",
    "\n",
    "\n",
    "tree.create_node('k-means', 'k-means', parent='clustering')\n",
    "tree.create_node('hierarchical', 'hierarchical', parent='clustering')\n",
    "tree.create_node('dbscan', 'dbscan', parent='clustering')\n",
    "\n",
    "\n",
    "# show the tree\n",
    "tree.show()"
   ],
   "metadata": {
    "collapsed": false,
    "ExecuteTime": {
     "end_time": "2023-05-04T10:43:09.257467Z",
     "start_time": "2023-05-04T10:43:09.253800Z"
    }
   }
  },
  {
   "cell_type": "code",
   "execution_count": 26,
   "outputs": [
    {
     "ename": "AttributeError",
     "evalue": "'DecisionTreeClassifier' object has no attribute 'plot_tree'",
     "output_type": "error",
     "traceback": [
      "\u001B[0;31m---------------------------------------------------------------------------\u001B[0m",
      "\u001B[0;31mAttributeError\u001B[0m                            Traceback (most recent call last)",
      "Cell \u001B[0;32mIn[26], line 19\u001B[0m\n\u001B[1;32m     17\u001B[0m \u001B[38;5;66;03m# plot the tree\u001B[39;00m\n\u001B[1;32m     18\u001B[0m plt\u001B[38;5;241m.\u001B[39mfigure(figsize\u001B[38;5;241m=\u001B[39m(\u001B[38;5;241m15\u001B[39m, \u001B[38;5;241m10\u001B[39m))\n\u001B[0;32m---> 19\u001B[0m \u001B[43mtree\u001B[49m\u001B[38;5;241;43m.\u001B[39;49m\u001B[43mplot_tree\u001B[49m(tree, filled\u001B[38;5;241m=\u001B[39m\u001B[38;5;28;01mTrue\u001B[39;00m)\n\u001B[1;32m     20\u001B[0m plt\u001B[38;5;241m.\u001B[39mshow()\n",
      "\u001B[0;31mAttributeError\u001B[0m: 'DecisionTreeClassifier' object has no attribute 'plot_tree'"
     ]
    },
    {
     "data": {
      "text/plain": "<Figure size 1500x1000 with 0 Axes>"
     },
     "metadata": {},
     "output_type": "display_data"
    }
   ],
   "source": [
    "# Visualize with plot_tree\n",
    "# import the plot_tree function from the tree package\n",
    "from matplotlib import pyplot as plt\n",
    "from sklearn import datasets\n",
    "from sklearn import tree\n",
    "\n",
    "\n",
    "\n",
    "\n"
   ],
   "metadata": {
    "collapsed": false,
    "ExecuteTime": {
     "end_time": "2023-05-04T10:51:34.834060Z",
     "start_time": "2023-05-04T10:51:34.810469Z"
    }
   }
  },
  {
   "cell_type": "code",
   "execution_count": null,
   "outputs": [],
   "source": [],
   "metadata": {
    "collapsed": false
   }
  }
 ],
 "metadata": {
  "kernelspec": {
   "display_name": "Python 3",
   "language": "python",
   "name": "python3"
  },
  "language_info": {
   "codemirror_mode": {
    "name": "ipython",
    "version": 2
   },
   "file_extension": ".py",
   "mimetype": "text/x-python",
   "name": "python",
   "nbconvert_exporter": "python",
   "pygments_lexer": "ipython2",
   "version": "2.7.6"
  }
 },
 "nbformat": 4,
 "nbformat_minor": 0
}
